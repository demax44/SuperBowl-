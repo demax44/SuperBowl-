{
  "nbformat": 4,
  "nbformat_minor": 0,
  "metadata": {
    "language_info": {
      "name": "python",
      "mimetype": "text/x-python",
      "version": "3.5.2",
      "nbconvert_exporter": "python",
      "file_extension": ".py",
      "pygments_lexer": "ipython3",
      "codemirror_mode": {
        "name": "ipython",
        "version": 3
      }
    },
    "kernelspec": {
      "name": "python3",
      "language": "python",
      "display_name": "Python 3"
    },
    "colab": {
      "name": "Superbowl.ipynb",
      "provenance": [],
      "collapsed_sections": []
    }
  },
  "cells": [
    {
      "cell_type": "markdown",
      "metadata": {
        "run_control": {
          "frozen": true
        },
        "tags": [
          "context"
        ],
        "dc": {
          "key": "3"
        },
        "editable": false,
        "deletable": false,
        "id": "qpnLCeVd0en-",
        "colab_type": "text"
      },
      "source": [
        "## 1. TV, halftime shows, and the Big Game\n",
        "\n",
        "*   List item\n",
        "\n",
        "1.   List item\n",
        "2.   List item\n",
        "\n",
        "\n",
        "*   List item\n",
        "\n",
        "\n",
        "<p>Whether or not you like football, the Super Bowl is a spectacle. There's a little something for everyone at your Super Bowl party. Drama in the form of blowouts, comebacks, and controversy for the sports fan. There are the ridiculously expensive ads, some hilarious, others gut-wrenching, thought-provoking, and weird. The half-time shows with the biggest musicians in the world, sometimes <a href=\"https://youtu.be/ZD1QrIe--_Y?t=14\">riding giant mechanical tigers</a> or <a href=\"https://youtu.be/mjrdywp5nyE?t=62\">leaping from the roof of the stadium</a>. It's a show, baby. And in this notebook, we're going to find out how some of the elements of this show interact with each other. After exploring and cleaning our data a little, we're going to answer questions like:</p>\n",
        "<ul>\n",
        "<li>What are the most extreme game outcomes?</li>\n",
        "<li>How does the game affect television viewership?</li>\n",
        "<li>How have viewership, TV ratings, and ad cost evolved over time?</li>\n",
        "<li>Who are the most prolific musicians in terms of halftime show performances?</li>\n",
        "</ul>\n",
        "<p><img src=\"https://assets.datacamp.com/production/project_684/img/left_shark.jpg\" alt=\"Left Shark Steals The Show\">\n",
        "<em><a href=\"https://www.flickr.com/photos/huntleypaton/16464994135/in/photostream/\">Left Shark Steals The Show</a>. Katy Perry performing at halftime of Super Bowl XLIX. Photo by Huntley Paton. Attribution-ShareAlike 2.0 Generic (CC BY-SA 2.0).</em></p>\n",
        "<p>The dataset we'll use was <a href=\"https://en.wikipedia.org/wiki/Web_scraping\">scraped</a> and polished from Wikipedia. It is made up of three CSV files, one with <a href=\"https://en.wikipedia.org/wiki/List_of_Super_Bowl_champions\">game data</a>, one with <a href=\"https://en.wikipedia.org/wiki/Super_Bowl_television_ratings\">TV data</a>, and one with <a href=\"https://en.wikipedia.org/wiki/List_of_Super_Bowl_halftime_shows\">halftime musician data</a> for all 52 Super Bowls through 2018. Let's take a look, using <code>display()</code> instead of <code>print()</code> since its output is much prettier in Jupyter Notebooks.</p>"
      ]
    },
    {
      "cell_type": "code",
      "metadata": {
        "trusted": true,
        "tags": [
          "sample_code"
        ],
        "dc": {
          "key": "3"
        },
        "id": "BuTKx2SC0en-",
        "colab_type": "code",
        "colab": {},
        "outputId": "983d677f-83f4-4c78-82d7-0b035e7c6942"
      },
      "source": [
        "# Import pandas\n",
        "import pandas as pd\n",
        "\n",
        "# Load the CSV data into DataFrames\n",
        "super_bowls = pd.read_csv(\"datasets/super_bowls.csv\")\n",
        "tv = pd.read_csv(\"datasets/tv.csv\")\n",
        "halftime_musicians = pd.read_csv(\"datasets/halftime_musicians.csv\")\n",
        "\n",
        "# Display the first five rows of each DataFrame\n",
        "display(super_bowls.head())\n",
        "display(tv.head())\n",
        "display(halftime_musicians.head())"
      ],
      "execution_count": null,
      "outputs": [
        {
          "output_type": "display_data",
          "data": {
            "text/html": [
              "<div>\n",
              "<style scoped>\n",
              "    .dataframe tbody tr th:only-of-type {\n",
              "        vertical-align: middle;\n",
              "    }\n",
              "\n",
              "    .dataframe tbody tr th {\n",
              "        vertical-align: top;\n",
              "    }\n",
              "\n",
              "    .dataframe thead th {\n",
              "        text-align: right;\n",
              "    }\n",
              "</style>\n",
              "<table border=\"1\" class=\"dataframe\">\n",
              "  <thead>\n",
              "    <tr style=\"text-align: right;\">\n",
              "      <th></th>\n",
              "      <th>date</th>\n",
              "      <th>super_bowl</th>\n",
              "      <th>venue</th>\n",
              "      <th>city</th>\n",
              "      <th>state</th>\n",
              "      <th>attendance</th>\n",
              "      <th>team_winner</th>\n",
              "      <th>winning_pts</th>\n",
              "      <th>qb_winner_1</th>\n",
              "      <th>qb_winner_2</th>\n",
              "      <th>coach_winner</th>\n",
              "      <th>team_loser</th>\n",
              "      <th>losing_pts</th>\n",
              "      <th>qb_loser_1</th>\n",
              "      <th>qb_loser_2</th>\n",
              "      <th>coach_loser</th>\n",
              "      <th>combined_pts</th>\n",
              "      <th>difference_pts</th>\n",
              "    </tr>\n",
              "  </thead>\n",
              "  <tbody>\n",
              "    <tr>\n",
              "      <th>0</th>\n",
              "      <td>2018-02-04</td>\n",
              "      <td>52</td>\n",
              "      <td>U.S. Bank Stadium</td>\n",
              "      <td>Minneapolis</td>\n",
              "      <td>Minnesota</td>\n",
              "      <td>67612</td>\n",
              "      <td>Philadelphia Eagles</td>\n",
              "      <td>41</td>\n",
              "      <td>Nick Foles</td>\n",
              "      <td>NaN</td>\n",
              "      <td>Doug Pederson</td>\n",
              "      <td>New England Patriots</td>\n",
              "      <td>33</td>\n",
              "      <td>Tom Brady</td>\n",
              "      <td>NaN</td>\n",
              "      <td>Bill Belichick</td>\n",
              "      <td>74</td>\n",
              "      <td>8</td>\n",
              "    </tr>\n",
              "    <tr>\n",
              "      <th>1</th>\n",
              "      <td>2017-02-05</td>\n",
              "      <td>51</td>\n",
              "      <td>NRG Stadium</td>\n",
              "      <td>Houston</td>\n",
              "      <td>Texas</td>\n",
              "      <td>70807</td>\n",
              "      <td>New England Patriots</td>\n",
              "      <td>34</td>\n",
              "      <td>Tom Brady</td>\n",
              "      <td>NaN</td>\n",
              "      <td>Bill Belichick</td>\n",
              "      <td>Atlanta Falcons</td>\n",
              "      <td>28</td>\n",
              "      <td>Matt Ryan</td>\n",
              "      <td>NaN</td>\n",
              "      <td>Dan Quinn</td>\n",
              "      <td>62</td>\n",
              "      <td>6</td>\n",
              "    </tr>\n",
              "    <tr>\n",
              "      <th>2</th>\n",
              "      <td>2016-02-07</td>\n",
              "      <td>50</td>\n",
              "      <td>Levi's Stadium</td>\n",
              "      <td>Santa Clara</td>\n",
              "      <td>California</td>\n",
              "      <td>71088</td>\n",
              "      <td>Denver Broncos</td>\n",
              "      <td>24</td>\n",
              "      <td>Peyton Manning</td>\n",
              "      <td>NaN</td>\n",
              "      <td>Gary Kubiak</td>\n",
              "      <td>Carolina Panthers</td>\n",
              "      <td>10</td>\n",
              "      <td>Cam Newton</td>\n",
              "      <td>NaN</td>\n",
              "      <td>Ron Rivera</td>\n",
              "      <td>34</td>\n",
              "      <td>14</td>\n",
              "    </tr>\n",
              "    <tr>\n",
              "      <th>3</th>\n",
              "      <td>2015-02-01</td>\n",
              "      <td>49</td>\n",
              "      <td>University of Phoenix Stadium</td>\n",
              "      <td>Glendale</td>\n",
              "      <td>Arizona</td>\n",
              "      <td>70288</td>\n",
              "      <td>New England Patriots</td>\n",
              "      <td>28</td>\n",
              "      <td>Tom Brady</td>\n",
              "      <td>NaN</td>\n",
              "      <td>Bill Belichick</td>\n",
              "      <td>Seattle Seahawks</td>\n",
              "      <td>24</td>\n",
              "      <td>Russell Wilson</td>\n",
              "      <td>NaN</td>\n",
              "      <td>Pete Carroll</td>\n",
              "      <td>52</td>\n",
              "      <td>4</td>\n",
              "    </tr>\n",
              "    <tr>\n",
              "      <th>4</th>\n",
              "      <td>2014-02-02</td>\n",
              "      <td>48</td>\n",
              "      <td>MetLife Stadium</td>\n",
              "      <td>East Rutherford</td>\n",
              "      <td>New Jersey</td>\n",
              "      <td>82529</td>\n",
              "      <td>Seattle Seahawks</td>\n",
              "      <td>43</td>\n",
              "      <td>Russell Wilson</td>\n",
              "      <td>NaN</td>\n",
              "      <td>Pete Carroll</td>\n",
              "      <td>Denver Broncos</td>\n",
              "      <td>8</td>\n",
              "      <td>Peyton Manning</td>\n",
              "      <td>NaN</td>\n",
              "      <td>John Fox</td>\n",
              "      <td>51</td>\n",
              "      <td>35</td>\n",
              "    </tr>\n",
              "  </tbody>\n",
              "</table>\n",
              "</div>"
            ],
            "text/plain": [
              "         date  super_bowl                          venue             city  \\\n",
              "0  2018-02-04          52              U.S. Bank Stadium      Minneapolis   \n",
              "1  2017-02-05          51                    NRG Stadium          Houston   \n",
              "2  2016-02-07          50                 Levi's Stadium      Santa Clara   \n",
              "3  2015-02-01          49  University of Phoenix Stadium         Glendale   \n",
              "4  2014-02-02          48                MetLife Stadium  East Rutherford   \n",
              "\n",
              "        state  attendance           team_winner  winning_pts     qb_winner_1  \\\n",
              "0   Minnesota       67612   Philadelphia Eagles           41      Nick Foles   \n",
              "1       Texas       70807  New England Patriots           34       Tom Brady   \n",
              "2  California       71088        Denver Broncos           24  Peyton Manning   \n",
              "3     Arizona       70288  New England Patriots           28       Tom Brady   \n",
              "4  New Jersey       82529      Seattle Seahawks           43  Russell Wilson   \n",
              "\n",
              "  qb_winner_2    coach_winner            team_loser  losing_pts  \\\n",
              "0         NaN   Doug Pederson  New England Patriots          33   \n",
              "1         NaN  Bill Belichick       Atlanta Falcons          28   \n",
              "2         NaN     Gary Kubiak     Carolina Panthers          10   \n",
              "3         NaN  Bill Belichick      Seattle Seahawks          24   \n",
              "4         NaN    Pete Carroll        Denver Broncos           8   \n",
              "\n",
              "       qb_loser_1 qb_loser_2     coach_loser  combined_pts  difference_pts  \n",
              "0       Tom Brady        NaN  Bill Belichick            74               8  \n",
              "1       Matt Ryan        NaN       Dan Quinn            62               6  \n",
              "2      Cam Newton        NaN      Ron Rivera            34              14  \n",
              "3  Russell Wilson        NaN    Pete Carroll            52               4  \n",
              "4  Peyton Manning        NaN        John Fox            51              35  "
            ]
          },
          "metadata": {
            "tags": []
          }
        },
        {
          "output_type": "display_data",
          "data": {
            "text/html": [
              "<div>\n",
              "<style scoped>\n",
              "    .dataframe tbody tr th:only-of-type {\n",
              "        vertical-align: middle;\n",
              "    }\n",
              "\n",
              "    .dataframe tbody tr th {\n",
              "        vertical-align: top;\n",
              "    }\n",
              "\n",
              "    .dataframe thead th {\n",
              "        text-align: right;\n",
              "    }\n",
              "</style>\n",
              "<table border=\"1\" class=\"dataframe\">\n",
              "  <thead>\n",
              "    <tr style=\"text-align: right;\">\n",
              "      <th></th>\n",
              "      <th>super_bowl</th>\n",
              "      <th>network</th>\n",
              "      <th>avg_us_viewers</th>\n",
              "      <th>total_us_viewers</th>\n",
              "      <th>rating_household</th>\n",
              "      <th>share_household</th>\n",
              "      <th>rating_18_49</th>\n",
              "      <th>share_18_49</th>\n",
              "      <th>ad_cost</th>\n",
              "    </tr>\n",
              "  </thead>\n",
              "  <tbody>\n",
              "    <tr>\n",
              "      <th>0</th>\n",
              "      <td>52</td>\n",
              "      <td>NBC</td>\n",
              "      <td>103390000</td>\n",
              "      <td>NaN</td>\n",
              "      <td>43.1</td>\n",
              "      <td>68</td>\n",
              "      <td>33.4</td>\n",
              "      <td>78.0</td>\n",
              "      <td>5000000</td>\n",
              "    </tr>\n",
              "    <tr>\n",
              "      <th>1</th>\n",
              "      <td>51</td>\n",
              "      <td>Fox</td>\n",
              "      <td>111319000</td>\n",
              "      <td>172000000.0</td>\n",
              "      <td>45.3</td>\n",
              "      <td>73</td>\n",
              "      <td>37.1</td>\n",
              "      <td>79.0</td>\n",
              "      <td>5000000</td>\n",
              "    </tr>\n",
              "    <tr>\n",
              "      <th>2</th>\n",
              "      <td>50</td>\n",
              "      <td>CBS</td>\n",
              "      <td>111864000</td>\n",
              "      <td>167000000.0</td>\n",
              "      <td>46.6</td>\n",
              "      <td>72</td>\n",
              "      <td>37.7</td>\n",
              "      <td>79.0</td>\n",
              "      <td>5000000</td>\n",
              "    </tr>\n",
              "    <tr>\n",
              "      <th>3</th>\n",
              "      <td>49</td>\n",
              "      <td>NBC</td>\n",
              "      <td>114442000</td>\n",
              "      <td>168000000.0</td>\n",
              "      <td>47.5</td>\n",
              "      <td>71</td>\n",
              "      <td>39.1</td>\n",
              "      <td>79.0</td>\n",
              "      <td>4500000</td>\n",
              "    </tr>\n",
              "    <tr>\n",
              "      <th>4</th>\n",
              "      <td>48</td>\n",
              "      <td>Fox</td>\n",
              "      <td>112191000</td>\n",
              "      <td>167000000.0</td>\n",
              "      <td>46.7</td>\n",
              "      <td>69</td>\n",
              "      <td>39.3</td>\n",
              "      <td>77.0</td>\n",
              "      <td>4000000</td>\n",
              "    </tr>\n",
              "  </tbody>\n",
              "</table>\n",
              "</div>"
            ],
            "text/plain": [
              "   super_bowl network  avg_us_viewers  total_us_viewers  rating_household  \\\n",
              "0          52     NBC       103390000               NaN              43.1   \n",
              "1          51     Fox       111319000       172000000.0              45.3   \n",
              "2          50     CBS       111864000       167000000.0              46.6   \n",
              "3          49     NBC       114442000       168000000.0              47.5   \n",
              "4          48     Fox       112191000       167000000.0              46.7   \n",
              "\n",
              "   share_household  rating_18_49  share_18_49  ad_cost  \n",
              "0               68          33.4         78.0  5000000  \n",
              "1               73          37.1         79.0  5000000  \n",
              "2               72          37.7         79.0  5000000  \n",
              "3               71          39.1         79.0  4500000  \n",
              "4               69          39.3         77.0  4000000  "
            ]
          },
          "metadata": {
            "tags": []
          }
        },
        {
          "output_type": "display_data",
          "data": {
            "text/html": [
              "<div>\n",
              "<style scoped>\n",
              "    .dataframe tbody tr th:only-of-type {\n",
              "        vertical-align: middle;\n",
              "    }\n",
              "\n",
              "    .dataframe tbody tr th {\n",
              "        vertical-align: top;\n",
              "    }\n",
              "\n",
              "    .dataframe thead th {\n",
              "        text-align: right;\n",
              "    }\n",
              "</style>\n",
              "<table border=\"1\" class=\"dataframe\">\n",
              "  <thead>\n",
              "    <tr style=\"text-align: right;\">\n",
              "      <th></th>\n",
              "      <th>super_bowl</th>\n",
              "      <th>musician</th>\n",
              "      <th>num_songs</th>\n",
              "    </tr>\n",
              "  </thead>\n",
              "  <tbody>\n",
              "    <tr>\n",
              "      <th>0</th>\n",
              "      <td>52</td>\n",
              "      <td>Justin Timberlake</td>\n",
              "      <td>11.0</td>\n",
              "    </tr>\n",
              "    <tr>\n",
              "      <th>1</th>\n",
              "      <td>52</td>\n",
              "      <td>University of Minnesota Marching Band</td>\n",
              "      <td>1.0</td>\n",
              "    </tr>\n",
              "    <tr>\n",
              "      <th>2</th>\n",
              "      <td>51</td>\n",
              "      <td>Lady Gaga</td>\n",
              "      <td>7.0</td>\n",
              "    </tr>\n",
              "    <tr>\n",
              "      <th>3</th>\n",
              "      <td>50</td>\n",
              "      <td>Coldplay</td>\n",
              "      <td>6.0</td>\n",
              "    </tr>\n",
              "    <tr>\n",
              "      <th>4</th>\n",
              "      <td>50</td>\n",
              "      <td>Beyoncé</td>\n",
              "      <td>3.0</td>\n",
              "    </tr>\n",
              "  </tbody>\n",
              "</table>\n",
              "</div>"
            ],
            "text/plain": [
              "   super_bowl                               musician  num_songs\n",
              "0          52                      Justin Timberlake       11.0\n",
              "1          52  University of Minnesota Marching Band        1.0\n",
              "2          51                              Lady Gaga        7.0\n",
              "3          50                               Coldplay        6.0\n",
              "4          50                                Beyoncé        3.0"
            ]
          },
          "metadata": {
            "tags": []
          }
        }
      ]
    },
    {
      "cell_type": "markdown",
      "metadata": {
        "run_control": {
          "frozen": true
        },
        "tags": [
          "context"
        ],
        "dc": {
          "key": "10"
        },
        "editable": false,
        "deletable": false,
        "id": "CT-0wx2B0eoD",
        "colab_type": "text"
      },
      "source": [
        "## 2. Taking note of dataset issues\n",
        "<p>For the Super Bowl game data, we can see the dataset appears whole except for missing values in the backup quarterback columns (<code>qb_winner_2</code> and <code>qb_loser_2</code>), which make sense given most starting QBs in the Super Bowl (<code>qb_winner_1</code> and <code>qb_loser_1</code>) play the entire game.</p>\n",
        "<p>From the visual inspection of TV and halftime musicians data, there is only one missing value displayed, but I've got a hunch there are more. The Super Bowl goes all the way back to 1967, and the more granular columns (e.g. the number of songs for halftime musicians) probably weren't tracked reliably over time. Wikipedia is great but not perfect.</p>\n",
        "<p>An inspection of the <code>.info()</code> output for <code>tv</code> and <code>halftime_musicians</code> shows us that there are multiple columns with null values.</p>"
      ]
    },
    {
      "cell_type": "code",
      "metadata": {
        "trusted": true,
        "tags": [
          "sample_code"
        ],
        "dc": {
          "key": "10"
        },
        "id": "5pmOvZd80eoD",
        "colab_type": "code",
        "colab": {},
        "outputId": "18041913-3f2b-4678-dc5a-ee9e74de740f"
      },
      "source": [
        "# Summary of the TV data to inspect\n",
        "tv.info()\n",
        "\n",
        "print('\\n')\n",
        "\n",
        "# Summary of the halftime musician data to inspect\n",
        "halftime_musicians.info()"
      ],
      "execution_count": null,
      "outputs": [
        {
          "output_type": "stream",
          "text": [
            "<class 'pandas.core.frame.DataFrame'>\n",
            "RangeIndex: 53 entries, 0 to 52\n",
            "Data columns (total 9 columns):\n",
            "super_bowl          53 non-null int64\n",
            "network             53 non-null object\n",
            "avg_us_viewers      53 non-null int64\n",
            "total_us_viewers    15 non-null float64\n",
            "rating_household    53 non-null float64\n",
            "share_household     53 non-null int64\n",
            "rating_18_49        15 non-null float64\n",
            "share_18_49         6 non-null float64\n",
            "ad_cost             53 non-null int64\n",
            "dtypes: float64(4), int64(4), object(1)\n",
            "memory usage: 3.8+ KB\n",
            "\n",
            "\n",
            "<class 'pandas.core.frame.DataFrame'>\n",
            "RangeIndex: 134 entries, 0 to 133\n",
            "Data columns (total 3 columns):\n",
            "super_bowl    134 non-null int64\n",
            "musician      134 non-null object\n",
            "num_songs     88 non-null float64\n",
            "dtypes: float64(1), int64(1), object(1)\n",
            "memory usage: 3.2+ KB\n"
          ],
          "name": "stdout"
        }
      ]
    },
    {
      "cell_type": "markdown",
      "metadata": {
        "run_control": {
          "frozen": true
        },
        "tags": [
          "context"
        ],
        "dc": {
          "key": "17"
        },
        "editable": false,
        "deletable": false,
        "id": "o7i18s_p0eoG",
        "colab_type": "text"
      },
      "source": [
        "## 3. Combined points distribution\n",
        "<p>For the TV data, the following columns have missing values and a lot of them:</p>\n",
        "<ul>\n",
        "<li><code>total_us_viewers</code> (amount of U.S. viewers who watched at least some part of the broadcast)</li>\n",
        "<li><code>rating_18_49</code> (average % of U.S. adults 18-49 who live in a household with a TV that were watching for the entire broadcast)</li>\n",
        "<li><code>share_18_49</code> (average % of U.S. adults 18-49 who live in a household with a TV <em>in use</em> that were watching for the entire broadcast)</li>\n",
        "</ul>\n",
        "<p>For the halftime musician data, there are missing numbers of songs performed (<code>num_songs</code>) for about a third of the performances.</p>\n",
        "<p>There are a lot of potential reasons for these missing values. Was the data ever tracked? Was it lost in history? Is the research effort to make this data whole worth it? Maybe. Watching every Super Bowl halftime show to get song counts would be pretty fun. But we don't have the time to do that kind of stuff now! Let's take note of where the dataset isn't perfect and start uncovering some insights.</p>\n",
        "<p>Let's start by looking at combined points for each Super Bowl by visualizing the distribution. Let's also pinpoint the Super Bowls with the highest and lowest scores.</p>"
      ]
    },
    {
      "cell_type": "code",
      "metadata": {
        "trusted": true,
        "tags": [
          "sample_code"
        ],
        "dc": {
          "key": "17"
        },
        "id": "WQXVvppe0eoG",
        "colab_type": "code",
        "colab": {},
        "outputId": "c3e0b828-fe50-4214-919e-376a2e497d81"
      },
      "source": [
        "# Import matplotlib and set plotting style\n",
        "from matplotlib import pyplot as plt\n",
        "%matplotlib inline\n",
        "plt.style.use('seaborn')\n",
        "\n",
        "# Plot a histogram of combined points\n",
        "plt.hist(super_bowls.combined_pts)\n",
        "plt.xlabel('Combined Points')\n",
        "plt.ylabel('Number of Super Bowls')\n",
        "plt.show()\n",
        "\n",
        "# Display the Super Bowls with the highest and lowest combined scores\n",
        "display(super_bowls[super_bowls['combined_pts'] > 70])\n",
        "display(super_bowls[super_bowls['combined_pts'] < 25])"
      ],
      "execution_count": null,
      "outputs": [
        {
          "output_type": "display_data",
          "data": {
            "image/png": "[encoded data removed]",
            "text/plain": [
              "<Figure size 576x396 with 1 Axes>"
            ]
          },
          "metadata": {
            "tags": []
          }
        },
        {
          "output_type": "display_data",
          "data": {
            "text/html": [
              "<div>\n",
              "<style scoped>\n",
              "    .dataframe tbody tr th:only-of-type {\n",
              "        vertical-align: middle;\n",
              "    }\n",
              "\n",
              "    .dataframe tbody tr th {\n",
              "        vertical-align: top;\n",
              "    }\n",
              "\n",
              "    .dataframe thead th {\n",
              "        text-align: right;\n",
              "    }\n",
              "</style>\n",
              "<table border=\"1\" class=\"dataframe\">\n",
              "  <thead>\n",
              "    <tr style=\"text-align: right;\">\n",
              "      <th></th>\n",
              "      <th>date</th>\n",
              "      <th>super_bowl</th>\n",
              "      <th>venue</th>\n",
              "      <th>city</th>\n",
              "      <th>state</th>\n",
              "      <th>attendance</th>\n",
              "      <th>team_winner</th>\n",
              "      <th>winning_pts</th>\n",
              "      <th>qb_winner_1</th>\n",
              "      <th>qb_winner_2</th>\n",
              "      <th>coach_winner</th>\n",
              "      <th>team_loser</th>\n",
              "      <th>losing_pts</th>\n",
              "      <th>qb_loser_1</th>\n",
              "      <th>qb_loser_2</th>\n",
              "      <th>coach_loser</th>\n",
              "      <th>combined_pts</th>\n",
              "      <th>difference_pts</th>\n",
              "    </tr>\n",
              "  </thead>\n",
              "  <tbody>\n",
              "    <tr>\n",
              "      <th>0</th>\n",
              "      <td>2018-02-04</td>\n",
              "      <td>52</td>\n",
              "      <td>U.S. Bank Stadium</td>\n",
              "      <td>Minneapolis</td>\n",
              "      <td>Minnesota</td>\n",
              "      <td>67612</td>\n",
              "      <td>Philadelphia Eagles</td>\n",
              "      <td>41</td>\n",
              "      <td>Nick Foles</td>\n",
              "      <td>NaN</td>\n",
              "      <td>Doug Pederson</td>\n",
              "      <td>New England Patriots</td>\n",
              "      <td>33</td>\n",
              "      <td>Tom Brady</td>\n",
              "      <td>NaN</td>\n",
              "      <td>Bill Belichick</td>\n",
              "      <td>74</td>\n",
              "      <td>8</td>\n",
              "    </tr>\n",
              "    <tr>\n",
              "      <th>23</th>\n",
              "      <td>1995-01-29</td>\n",
              "      <td>29</td>\n",
              "      <td>Joe Robbie Stadium</td>\n",
              "      <td>Miami Gardens</td>\n",
              "      <td>Florida</td>\n",
              "      <td>74107</td>\n",
              "      <td>San Francisco 49ers</td>\n",
              "      <td>49</td>\n",
              "      <td>Steve Young</td>\n",
              "      <td>NaN</td>\n",
              "      <td>George Seifert</td>\n",
              "      <td>San Diego Chargers</td>\n",
              "      <td>26</td>\n",
              "      <td>Stan Humphreys</td>\n",
              "      <td>NaN</td>\n",
              "      <td>Bobby Ross</td>\n",
              "      <td>75</td>\n",
              "      <td>23</td>\n",
              "    </tr>\n",
              "  </tbody>\n",
              "</table>\n",
              "</div>"
            ],
            "text/plain": [
              "          date  super_bowl               venue           city      state  \\\n",
              "0   2018-02-04          52   U.S. Bank Stadium    Minneapolis  Minnesota   \n",
              "23  1995-01-29          29  Joe Robbie Stadium  Miami Gardens    Florida   \n",
              "\n",
              "    attendance          team_winner  winning_pts  qb_winner_1 qb_winner_2  \\\n",
              "0        67612  Philadelphia Eagles           41   Nick Foles         NaN   \n",
              "23       74107  San Francisco 49ers           49  Steve Young         NaN   \n",
              "\n",
              "      coach_winner            team_loser  losing_pts      qb_loser_1  \\\n",
              "0    Doug Pederson  New England Patriots          33       Tom Brady   \n",
              "23  George Seifert    San Diego Chargers          26  Stan Humphreys   \n",
              "\n",
              "   qb_loser_2     coach_loser  combined_pts  difference_pts  \n",
              "0         NaN  Bill Belichick            74               8  \n",
              "23        NaN      Bobby Ross            75              23  "
            ]
          },
          "metadata": {
            "tags": []
          }
        },
        {
          "output_type": "display_data",
          "data": {
            "text/html": [
              "<div>\n",
              "<style scoped>\n",
              "    .dataframe tbody tr th:only-of-type {\n",
              "        vertical-align: middle;\n",
              "    }\n",
              "\n",
              "    .dataframe tbody tr th {\n",
              "        vertical-align: top;\n",
              "    }\n",
              "\n",
              "    .dataframe thead th {\n",
              "        text-align: right;\n",
              "    }\n",
              "</style>\n",
              "<table border=\"1\" class=\"dataframe\">\n",
              "  <thead>\n",
              "    <tr style=\"text-align: right;\">\n",
              "      <th></th>\n",
              "      <th>date</th>\n",
              "      <th>super_bowl</th>\n",
              "      <th>venue</th>\n",
              "      <th>city</th>\n",
              "      <th>state</th>\n",
              "      <th>attendance</th>\n",
              "      <th>team_winner</th>\n",
              "      <th>winning_pts</th>\n",
              "      <th>qb_winner_1</th>\n",
              "      <th>qb_winner_2</th>\n",
              "      <th>coach_winner</th>\n",
              "      <th>team_loser</th>\n",
              "      <th>losing_pts</th>\n",
              "      <th>qb_loser_1</th>\n",
              "      <th>qb_loser_2</th>\n",
              "      <th>coach_loser</th>\n",
              "      <th>combined_pts</th>\n",
              "      <th>difference_pts</th>\n",
              "    </tr>\n",
              "  </thead>\n",
              "  <tbody>\n",
              "    <tr>\n",
              "      <th>43</th>\n",
              "      <td>1975-01-12</td>\n",
              "      <td>9</td>\n",
              "      <td>Tulane Stadium</td>\n",
              "      <td>New Orleans</td>\n",
              "      <td>Louisiana</td>\n",
              "      <td>80997</td>\n",
              "      <td>Pittsburgh Steelers</td>\n",
              "      <td>16</td>\n",
              "      <td>Terry Bradshaw</td>\n",
              "      <td>NaN</td>\n",
              "      <td>Chuck Noll</td>\n",
              "      <td>Minnesota Vikings</td>\n",
              "      <td>6</td>\n",
              "      <td>Fran Tarkenton</td>\n",
              "      <td>NaN</td>\n",
              "      <td>Bud Grant</td>\n",
              "      <td>22</td>\n",
              "      <td>10</td>\n",
              "    </tr>\n",
              "    <tr>\n",
              "      <th>45</th>\n",
              "      <td>1973-01-14</td>\n",
              "      <td>7</td>\n",
              "      <td>Memorial Coliseum</td>\n",
              "      <td>Los Angeles</td>\n",
              "      <td>California</td>\n",
              "      <td>90182</td>\n",
              "      <td>Miami Dolphins</td>\n",
              "      <td>14</td>\n",
              "      <td>Bob Griese</td>\n",
              "      <td>NaN</td>\n",
              "      <td>Don Shula</td>\n",
              "      <td>Washington Redskins</td>\n",
              "      <td>7</td>\n",
              "      <td>Bill Kilmer</td>\n",
              "      <td>NaN</td>\n",
              "      <td>George Allen</td>\n",
              "      <td>21</td>\n",
              "      <td>7</td>\n",
              "    </tr>\n",
              "    <tr>\n",
              "      <th>49</th>\n",
              "      <td>1969-01-12</td>\n",
              "      <td>3</td>\n",
              "      <td>Orange Bowl</td>\n",
              "      <td>Miami</td>\n",
              "      <td>Florida</td>\n",
              "      <td>75389</td>\n",
              "      <td>New York Jets</td>\n",
              "      <td>16</td>\n",
              "      <td>Joe Namath</td>\n",
              "      <td>NaN</td>\n",
              "      <td>Weeb Ewbank</td>\n",
              "      <td>Baltimore Colts</td>\n",
              "      <td>7</td>\n",
              "      <td>Earl Morrall</td>\n",
              "      <td>Johnny Unitas</td>\n",
              "      <td>Don Shula</td>\n",
              "      <td>23</td>\n",
              "      <td>9</td>\n",
              "    </tr>\n",
              "  </tbody>\n",
              "</table>\n",
              "</div>"
            ],
            "text/plain": [
              "          date  super_bowl              venue         city       state  \\\n",
              "43  1975-01-12           9     Tulane Stadium  New Orleans   Louisiana   \n",
              "45  1973-01-14           7  Memorial Coliseum  Los Angeles  California   \n",
              "49  1969-01-12           3        Orange Bowl        Miami     Florida   \n",
              "\n",
              "    attendance          team_winner  winning_pts     qb_winner_1 qb_winner_2  \\\n",
              "43       80997  Pittsburgh Steelers           16  Terry Bradshaw         NaN   \n",
              "45       90182       Miami Dolphins           14      Bob Griese         NaN   \n",
              "49       75389        New York Jets           16      Joe Namath         NaN   \n",
              "\n",
              "   coach_winner           team_loser  losing_pts      qb_loser_1  \\\n",
              "43   Chuck Noll    Minnesota Vikings           6  Fran Tarkenton   \n",
              "45    Don Shula  Washington Redskins           7     Bill Kilmer   \n",
              "49  Weeb Ewbank      Baltimore Colts           7    Earl Morrall   \n",
              "\n",
              "       qb_loser_2   coach_loser  combined_pts  difference_pts  \n",
              "43            NaN     Bud Grant            22              10  \n",
              "45            NaN  George Allen            21               7  \n",
              "49  Johnny Unitas     Don Shula            23               9  "
            ]
          },
          "metadata": {
            "tags": []
          }
        }
      ]
    },
    {
      "cell_type": "markdown",
      "metadata": {
        "run_control": {
          "frozen": true
        },
        "tags": [
          "context"
        ],
        "dc": {
          "key": "24"
        },
        "editable": false,
        "deletable": false,
        "id": "MaIjlV5K0eoJ",
        "colab_type": "text"
      },
      "source": [
        "## 4. Point difference distribution\n",
        "<p>Most combined scores are around 40-50 points, with the extremes being roughly equal distance away in opposite directions. Going up to the highest combined scores at 74 and 75, we find two games featuring dominant quarterback performances. One even happened recently in 2018's Super Bowl LII where Tom Brady's Patriots lost to Nick Foles' underdog Eagles 41-33 for a combined score of 74.</p>\n",
        "<p>Going down to the lowest combined scores, we have Super Bowl III and VII, which featured tough defenses that dominated. We also have Super Bowl IX in New Orleans in 1975, whose 16-6 score can be attributed to inclement weather. The field was slick from overnight rain, and it was cold at 46 °F (8 °C), making it hard for the Steelers and Vikings to do much offensively. This was the second-coldest Super Bowl ever and the last to be played in inclement weather for over 30 years. The NFL realized people like points, I guess.</p>\n",
        "<p><em>UPDATE: In Super Bowl LIII in 2019, the Patriots and Rams broke the record for the lowest-scoring Super Bowl with a combined score of 16 points (13-3 for the Patriots).</em></p>\n",
        "<p>Let's take a look at point <em>difference</em> now.</p>"
      ]
    },
    {
      "cell_type": "code",
      "metadata": {
        "trusted": true,
        "tags": [
          "sample_code"
        ],
        "dc": {
          "key": "24"
        },
        "id": "hk1cbOvA0eoJ",
        "colab_type": "code",
        "colab": {},
        "outputId": "24d3bb84-3bcb-4901-f48d-8354ad9d4309"
      },
      "source": [
        "# Plot a histogram of point differences\n",
        "plt.hist(super_bowls.difference_pts)\n",
        "plt.xlabel('Point Difference')\n",
        "plt.ylabel('Number of Super Bowls')\n",
        "plt.show()\n",
        "\n",
        "# Display the closest game(s) and biggest blowouts\n",
        "display(...)\n",
        "display(...)"
      ],
      "execution_count": null,
      "outputs": [
        {
          "output_type": "display_data",
          "data": {
            "image/png": "[encoded data removed]",
            "text/plain": [
              "<Figure size 576x396 with 1 Axes>"
            ]
          },
          "metadata": {
            "tags": []
          }
        },
        {
          "output_type": "display_data",
          "data": {
            "text/plain": [
              "Ellipsis"
            ]
          },
          "metadata": {
            "tags": []
          }
        },
        {
          "output_type": "display_data",
          "data": {
            "text/plain": [
              "Ellipsis"
            ]
          },
          "metadata": {
            "tags": []
          }
        }
      ]
    },
    {
      "cell_type": "markdown",
      "metadata": {
        "run_control": {
          "frozen": true
        },
        "tags": [
          "context"
        ],
        "dc": {
          "key": "31"
        },
        "editable": false,
        "deletable": false,
        "id": "XlXaOVpv0eoL",
        "colab_type": "text"
      },
      "source": [
        "## 5. Do blowouts translate to lost viewers?\n",
        "<p>The vast majority of Super Bowls are close games. Makes sense. Both teams are likely to be deserving if they've made it this far. The closest game ever was when the Buffalo Bills lost to the New York Giants by 1 point in 1991, which was  best remembered for Scott Norwood's last-second missed field goal attempt that went <em><a href=\"https://www.youtube.com/watch?v=RPFZCGgjDSg\">wide right</a></em>, kicking off four Bills Super Bowl losses in a row. Poor Scott. The biggest point discrepancy ever was 45 points (!) where Hall of Famer Joe Montana's led the San Francisco 49ers to victory in 1990, one year before the closest game ever.</p>\n",
        "<p>I remember watching the Seahawks crush the Broncos by 35 points (43-8) in 2014, which was a boring experience in my opinion. The game was never really close. I'm pretty sure we changed the channel at the end of the third quarter. Let's combine our game data and TV to see if this is a universal phenomenon. Do large point differences translate to lost viewers? We can plot <a href=\"https://en.wikipedia.org/wiki/Nielsen_ratings\">household share</a> <em>(average percentage of U.S. households with a TV in use that were watching for the entire broadcast)</em> vs. point difference to find out.</p>"
      ]
    },
    {
      "cell_type": "code",
      "metadata": {
        "trusted": true,
        "tags": [
          "sample_code"
        ],
        "dc": {
          "key": "31"
        },
        "id": "1NM1RUxF0eoM",
        "colab_type": "code",
        "colab": {},
        "outputId": "b05a535b-65f4-454a-a977-f4d7ac37354e"
      },
      "source": [
        "# Join game and TV data, filtering out SB I because it was split over two networks\n",
        "games_tv = pd.merge(tv[tv['super_bowl'] > 1], super_bowls, on='super_bowl')\n",
        "\n",
        "import seaborn as sns\n",
        "\n",
        "# Create a scatter plot with a linear regression model fit\n",
        "sns.regplot(x='difference_pts', y='share_household', data=games_tv)"
      ],
      "execution_count": null,
      "outputs": [
        {
          "output_type": "execute_result",
          "data": {
            "text/plain": [
              "<matplotlib.axes._subplots.AxesSubplot at 0x7fa8bd70cf98>"
            ]
          },
          "metadata": {
            "tags": []
          },
          "execution_count": 42
        },
        {
          "output_type": "display_data",
          "data": {
            "image/png": "[encoded data removed]",
            "text/plain": [
              "<Figure size 576x396 with 1 Axes>"
            ]
          },
          "metadata": {
            "tags": []
          }
        }
      ]
    },
    {
      "cell_type": "markdown",
      "metadata": {
        "run_control": {
          "frozen": true
        },
        "tags": [
          "context"
        ],
        "dc": {
          "key": "38"
        },
        "editable": false,
        "deletable": false,
        "id": "itcWBPa40eoO",
        "colab_type": "text"
      },
      "source": [
        "## 6. Viewership and the ad industry over time\n",
        "<p>The downward sloping regression line and the 95% confidence interval for that regression <em>suggest</em> that bailing on the game if it is a blowout is common. Though it matches our intuition, we must take it with a grain of salt because the linear relationship in the data is weak due to our small sample size of 52 games.</p>\n",
        "<p>Regardless of the score though, I bet most people stick it out for the halftime show, which is good news for the TV networks and advertisers. A 30-second spot costs a pretty <a href=\"https://www.businessinsider.com/super-bowl-commercials-cost-more-than-eagles-quarterback-earns-2018-1\">\\$5 million</a> now, but has it always been that way? And how have number of viewers and household ratings trended alongside ad cost? We can find out using line plots that share a \"Super Bowl\" x-axis.</p>"
      ]
    },
    {
      "cell_type": "code",
      "metadata": {
        "trusted": true,
        "tags": [
          "sample_code"
        ],
        "dc": {
          "key": "38"
        },
        "id": "5D3jzIRM0eoO",
        "colab_type": "code",
        "colab": {},
        "outputId": "6c45a7c4-27e2-493d-8155-7ce46a1bfcb7"
      },
      "source": [
        "# Create a figure with 3x1 subplot and activate the top subplot\n",
        "plt.subplot(3, 1, 1)\n",
        "plt.plot(tv.super_bowl, tv.avg_us_viewers, color='#648FFF')\n",
        "plt.title('Average Number of US Viewers')\n",
        "\n",
        "# Activate the middle subplot\n",
        "plt.subplot(3, 1, 2)\n",
        "plt.plot(tv.super_bowl, tv.rating_household,color='#DC267F')\n",
        "plt.title('Household Rating')\n",
        "\n",
        "# Activate the bottom subplot\n",
        "plt.subplot(3, 1, 3)\n",
        "plt.plot(tv.super_bowl, tv.ad_cost,color='#FFB000')\n",
        "plt.title('Ad Cost')\n",
        "plt.xlabel('SUPER BOWL')\n",
        "\n",
        "# Improve the spacing between subplots\n",
        "plt.tight_layout()"
      ],
      "execution_count": null,
      "outputs": [
        {
          "output_type": "display_data",
          "data": {
            "image/png": "[encoded data removed]",
            "text/plain": [
              "<Figure size 576x396 with 3 Axes>"
            ]
          },
          "metadata": {
            "tags": []
          }
        }
      ]
    },
    {
      "cell_type": "markdown",
      "metadata": {
        "run_control": {
          "frozen": true
        },
        "tags": [
          "context"
        ],
        "dc": {
          "key": "45"
        },
        "editable": false,
        "deletable": false,
        "id": "R2QXXjv50eoR",
        "colab_type": "text"
      },
      "source": [
        "## 7. Halftime shows weren't always this great\n",
        "<p>We can see viewers increased before ad costs did. Maybe the networks weren't very data savvy and were slow to react? Makes sense since DataCamp didn't exist back then.</p>\n",
        "<p>Another hypothesis: maybe halftime shows weren't that good in the earlier years? The modern spectacle of the Super Bowl has a lot to do with the cultural prestige of big halftime acts. I went down a YouTube rabbit hole and it turns out the old ones weren't up to today's standards. Some offenders:</p>\n",
        "<ul>\n",
        "<li><a href=\"https://youtu.be/6wMXHxWO4ns?t=263\">Super Bowl XXVI</a> in 1992: A Frosty The Snowman rap performed by children.</li>\n",
        "<li><a href=\"https://www.youtube.com/watch?v=PKQTL1PYSag\">Super Bowl XXIII</a> in 1989: An Elvis impersonator that did magic tricks and didn't even sing one Elvis song.</li>\n",
        "<li><a href=\"https://youtu.be/oSXMNbK2e98?t=436\">Super Bowl XXI</a> in 1987: Tap dancing ponies. (Okay, that's pretty awesome actually.)</li>\n",
        "</ul>\n",
        "<p>It turns out Michael Jackson's Super Bowl XXVII performance, one of the most watched events in American TV history, was when the NFL realized the value of Super Bowl airtime and decided they needed to sign big name acts from then on out. The halftime shows before MJ indeed weren't that impressive, which we can see by filtering our <code>halftime_musician</code> data.</p>"
      ]
    },
    {
      "cell_type": "code",
      "metadata": {
        "trusted": true,
        "tags": [
          "sample_code"
        ],
        "dc": {
          "key": "45"
        },
        "id": "SPQVLWpP0eoR",
        "colab_type": "code",
        "colab": {},
        "outputId": "8a6e657b-8711-4517-9160-5df6ca8974b2"
      },
      "source": [
        "# Display all halftime musicians for Super Bowls up to and including Super Bowl XXVI\n",
        "halftime_musicians[halftime_musicians.super_bowl <= 27]"
      ],
      "execution_count": null,
      "outputs": [
        {
          "output_type": "execute_result",
          "data": {
            "text/html": [
              "<div>\n",
              "<style scoped>\n",
              "    .dataframe tbody tr th:only-of-type {\n",
              "        vertical-align: middle;\n",
              "    }\n",
              "\n",
              "    .dataframe tbody tr th {\n",
              "        vertical-align: top;\n",
              "    }\n",
              "\n",
              "    .dataframe thead th {\n",
              "        text-align: right;\n",
              "    }\n",
              "</style>\n",
              "<table border=\"1\" class=\"dataframe\">\n",
              "  <thead>\n",
              "    <tr style=\"text-align: right;\">\n",
              "      <th></th>\n",
              "      <th>super_bowl</th>\n",
              "      <th>musician</th>\n",
              "      <th>num_songs</th>\n",
              "    </tr>\n",
              "  </thead>\n",
              "  <tbody>\n",
              "    <tr>\n",
              "      <th>80</th>\n",
              "      <td>27</td>\n",
              "      <td>Michael Jackson</td>\n",
              "      <td>5.0</td>\n",
              "    </tr>\n",
              "    <tr>\n",
              "      <th>81</th>\n",
              "      <td>26</td>\n",
              "      <td>Gloria Estefan</td>\n",
              "      <td>2.0</td>\n",
              "    </tr>\n",
              "    <tr>\n",
              "      <th>82</th>\n",
              "      <td>26</td>\n",
              "      <td>University of Minnesota Marching Band</td>\n",
              "      <td>NaN</td>\n",
              "    </tr>\n",
              "    <tr>\n",
              "      <th>83</th>\n",
              "      <td>25</td>\n",
              "      <td>New Kids on the Block</td>\n",
              "      <td>2.0</td>\n",
              "    </tr>\n",
              "    <tr>\n",
              "      <th>84</th>\n",
              "      <td>24</td>\n",
              "      <td>Pete Fountain</td>\n",
              "      <td>1.0</td>\n",
              "    </tr>\n",
              "    <tr>\n",
              "      <th>85</th>\n",
              "      <td>24</td>\n",
              "      <td>Doug Kershaw</td>\n",
              "      <td>1.0</td>\n",
              "    </tr>\n",
              "    <tr>\n",
              "      <th>86</th>\n",
              "      <td>24</td>\n",
              "      <td>Irma Thomas</td>\n",
              "      <td>1.0</td>\n",
              "    </tr>\n",
              "    <tr>\n",
              "      <th>87</th>\n",
              "      <td>24</td>\n",
              "      <td>Pride of Nicholls Marching Band</td>\n",
              "      <td>NaN</td>\n",
              "    </tr>\n",
              "    <tr>\n",
              "      <th>88</th>\n",
              "      <td>24</td>\n",
              "      <td>The Human Jukebox</td>\n",
              "      <td>NaN</td>\n",
              "    </tr>\n",
              "    <tr>\n",
              "      <th>89</th>\n",
              "      <td>24</td>\n",
              "      <td>Pride of Acadiana</td>\n",
              "      <td>NaN</td>\n",
              "    </tr>\n",
              "    <tr>\n",
              "      <th>90</th>\n",
              "      <td>23</td>\n",
              "      <td>Elvis Presto</td>\n",
              "      <td>7.0</td>\n",
              "    </tr>\n",
              "    <tr>\n",
              "      <th>91</th>\n",
              "      <td>22</td>\n",
              "      <td>Chubby Checker</td>\n",
              "      <td>2.0</td>\n",
              "    </tr>\n",
              "    <tr>\n",
              "      <th>92</th>\n",
              "      <td>22</td>\n",
              "      <td>San Diego State University Marching Aztecs</td>\n",
              "      <td>NaN</td>\n",
              "    </tr>\n",
              "    <tr>\n",
              "      <th>93</th>\n",
              "      <td>22</td>\n",
              "      <td>Spirit of Troy</td>\n",
              "      <td>NaN</td>\n",
              "    </tr>\n",
              "    <tr>\n",
              "      <th>94</th>\n",
              "      <td>21</td>\n",
              "      <td>Grambling State University Tiger Marching Band</td>\n",
              "      <td>8.0</td>\n",
              "    </tr>\n",
              "    <tr>\n",
              "      <th>95</th>\n",
              "      <td>21</td>\n",
              "      <td>Spirit of Troy</td>\n",
              "      <td>8.0</td>\n",
              "    </tr>\n",
              "    <tr>\n",
              "      <th>96</th>\n",
              "      <td>20</td>\n",
              "      <td>Up with People</td>\n",
              "      <td>NaN</td>\n",
              "    </tr>\n",
              "    <tr>\n",
              "      <th>97</th>\n",
              "      <td>19</td>\n",
              "      <td>Tops In Blue</td>\n",
              "      <td>NaN</td>\n",
              "    </tr>\n",
              "    <tr>\n",
              "      <th>98</th>\n",
              "      <td>18</td>\n",
              "      <td>The University of Florida Fightin' Gator March...</td>\n",
              "      <td>7.0</td>\n",
              "    </tr>\n",
              "    <tr>\n",
              "      <th>99</th>\n",
              "      <td>18</td>\n",
              "      <td>The Florida State University Marching Chiefs</td>\n",
              "      <td>7.0</td>\n",
              "    </tr>\n",
              "    <tr>\n",
              "      <th>100</th>\n",
              "      <td>17</td>\n",
              "      <td>Los Angeles Unified School District All City H...</td>\n",
              "      <td>NaN</td>\n",
              "    </tr>\n",
              "    <tr>\n",
              "      <th>101</th>\n",
              "      <td>16</td>\n",
              "      <td>Up with People</td>\n",
              "      <td>NaN</td>\n",
              "    </tr>\n",
              "    <tr>\n",
              "      <th>102</th>\n",
              "      <td>15</td>\n",
              "      <td>The Human Jukebox</td>\n",
              "      <td>NaN</td>\n",
              "    </tr>\n",
              "    <tr>\n",
              "      <th>103</th>\n",
              "      <td>15</td>\n",
              "      <td>Helen O'Connell</td>\n",
              "      <td>NaN</td>\n",
              "    </tr>\n",
              "    <tr>\n",
              "      <th>104</th>\n",
              "      <td>14</td>\n",
              "      <td>Up with People</td>\n",
              "      <td>NaN</td>\n",
              "    </tr>\n",
              "    <tr>\n",
              "      <th>105</th>\n",
              "      <td>14</td>\n",
              "      <td>Grambling State University Tiger Marching Band</td>\n",
              "      <td>NaN</td>\n",
              "    </tr>\n",
              "    <tr>\n",
              "      <th>106</th>\n",
              "      <td>13</td>\n",
              "      <td>Ken Hamilton</td>\n",
              "      <td>NaN</td>\n",
              "    </tr>\n",
              "    <tr>\n",
              "      <th>107</th>\n",
              "      <td>13</td>\n",
              "      <td>Gramacks</td>\n",
              "      <td>NaN</td>\n",
              "    </tr>\n",
              "    <tr>\n",
              "      <th>108</th>\n",
              "      <td>12</td>\n",
              "      <td>Tyler Junior College Apache Band</td>\n",
              "      <td>NaN</td>\n",
              "    </tr>\n",
              "    <tr>\n",
              "      <th>109</th>\n",
              "      <td>12</td>\n",
              "      <td>Pete Fountain</td>\n",
              "      <td>NaN</td>\n",
              "    </tr>\n",
              "    <tr>\n",
              "      <th>110</th>\n",
              "      <td>12</td>\n",
              "      <td>Al Hirt</td>\n",
              "      <td>NaN</td>\n",
              "    </tr>\n",
              "    <tr>\n",
              "      <th>111</th>\n",
              "      <td>11</td>\n",
              "      <td>Los Angeles Unified School District All City H...</td>\n",
              "      <td>NaN</td>\n",
              "    </tr>\n",
              "    <tr>\n",
              "      <th>112</th>\n",
              "      <td>10</td>\n",
              "      <td>Up with People</td>\n",
              "      <td>NaN</td>\n",
              "    </tr>\n",
              "    <tr>\n",
              "      <th>113</th>\n",
              "      <td>9</td>\n",
              "      <td>Mercer Ellington</td>\n",
              "      <td>NaN</td>\n",
              "    </tr>\n",
              "    <tr>\n",
              "      <th>114</th>\n",
              "      <td>9</td>\n",
              "      <td>Grambling State University Tiger Marching Band</td>\n",
              "      <td>NaN</td>\n",
              "    </tr>\n",
              "    <tr>\n",
              "      <th>115</th>\n",
              "      <td>8</td>\n",
              "      <td>University of Texas Longhorn Band</td>\n",
              "      <td>NaN</td>\n",
              "    </tr>\n",
              "    <tr>\n",
              "      <th>116</th>\n",
              "      <td>8</td>\n",
              "      <td>Judy Mallett</td>\n",
              "      <td>NaN</td>\n",
              "    </tr>\n",
              "    <tr>\n",
              "      <th>117</th>\n",
              "      <td>7</td>\n",
              "      <td>University of Michigan Marching Band</td>\n",
              "      <td>NaN</td>\n",
              "    </tr>\n",
              "    <tr>\n",
              "      <th>118</th>\n",
              "      <td>7</td>\n",
              "      <td>Woody Herman</td>\n",
              "      <td>NaN</td>\n",
              "    </tr>\n",
              "    <tr>\n",
              "      <th>119</th>\n",
              "      <td>7</td>\n",
              "      <td>Andy Williams</td>\n",
              "      <td>NaN</td>\n",
              "    </tr>\n",
              "    <tr>\n",
              "      <th>120</th>\n",
              "      <td>6</td>\n",
              "      <td>Ella Fitzgerald</td>\n",
              "      <td>NaN</td>\n",
              "    </tr>\n",
              "    <tr>\n",
              "      <th>121</th>\n",
              "      <td>6</td>\n",
              "      <td>Carol Channing</td>\n",
              "      <td>NaN</td>\n",
              "    </tr>\n",
              "    <tr>\n",
              "      <th>122</th>\n",
              "      <td>6</td>\n",
              "      <td>Al Hirt</td>\n",
              "      <td>NaN</td>\n",
              "    </tr>\n",
              "    <tr>\n",
              "      <th>123</th>\n",
              "      <td>6</td>\n",
              "      <td>United States Air Force Academy Cadet Chorale</td>\n",
              "      <td>NaN</td>\n",
              "    </tr>\n",
              "    <tr>\n",
              "      <th>124</th>\n",
              "      <td>5</td>\n",
              "      <td>Southeast Missouri State Marching Band</td>\n",
              "      <td>NaN</td>\n",
              "    </tr>\n",
              "    <tr>\n",
              "      <th>125</th>\n",
              "      <td>4</td>\n",
              "      <td>Marguerite Piazza</td>\n",
              "      <td>NaN</td>\n",
              "    </tr>\n",
              "    <tr>\n",
              "      <th>126</th>\n",
              "      <td>4</td>\n",
              "      <td>Doc Severinsen</td>\n",
              "      <td>NaN</td>\n",
              "    </tr>\n",
              "    <tr>\n",
              "      <th>127</th>\n",
              "      <td>4</td>\n",
              "      <td>Al Hirt</td>\n",
              "      <td>NaN</td>\n",
              "    </tr>\n",
              "    <tr>\n",
              "      <th>128</th>\n",
              "      <td>4</td>\n",
              "      <td>The Human Jukebox</td>\n",
              "      <td>NaN</td>\n",
              "    </tr>\n",
              "    <tr>\n",
              "      <th>129</th>\n",
              "      <td>3</td>\n",
              "      <td>Florida A&amp;M University Marching 100 Band</td>\n",
              "      <td>NaN</td>\n",
              "    </tr>\n",
              "    <tr>\n",
              "      <th>130</th>\n",
              "      <td>2</td>\n",
              "      <td>Grambling State University Tiger Marching Band</td>\n",
              "      <td>NaN</td>\n",
              "    </tr>\n",
              "    <tr>\n",
              "      <th>131</th>\n",
              "      <td>1</td>\n",
              "      <td>University of Arizona Symphonic Marching Band</td>\n",
              "      <td>NaN</td>\n",
              "    </tr>\n",
              "    <tr>\n",
              "      <th>132</th>\n",
              "      <td>1</td>\n",
              "      <td>Grambling State University Tiger Marching Band</td>\n",
              "      <td>NaN</td>\n",
              "    </tr>\n",
              "    <tr>\n",
              "      <th>133</th>\n",
              "      <td>1</td>\n",
              "      <td>Al Hirt</td>\n",
              "      <td>NaN</td>\n",
              "    </tr>\n",
              "  </tbody>\n",
              "</table>\n",
              "</div>"
            ],
            "text/plain": [
              "     super_bowl                                           musician  num_songs\n",
              "80           27                                    Michael Jackson        5.0\n",
              "81           26                                     Gloria Estefan        2.0\n",
              "82           26              University of Minnesota Marching Band        NaN\n",
              "83           25                              New Kids on the Block        2.0\n",
              "84           24                                      Pete Fountain        1.0\n",
              "85           24                                       Doug Kershaw        1.0\n",
              "86           24                                        Irma Thomas        1.0\n",
              "87           24                    Pride of Nicholls Marching Band        NaN\n",
              "88           24                                  The Human Jukebox        NaN\n",
              "89           24                                  Pride of Acadiana        NaN\n",
              "90           23                                       Elvis Presto        7.0\n",
              "91           22                                     Chubby Checker        2.0\n",
              "92           22         San Diego State University Marching Aztecs        NaN\n",
              "93           22                                     Spirit of Troy        NaN\n",
              "94           21     Grambling State University Tiger Marching Band        8.0\n",
              "95           21                                     Spirit of Troy        8.0\n",
              "96           20                                     Up with People        NaN\n",
              "97           19                                       Tops In Blue        NaN\n",
              "98           18  The University of Florida Fightin' Gator March...        7.0\n",
              "99           18       The Florida State University Marching Chiefs        7.0\n",
              "100          17  Los Angeles Unified School District All City H...        NaN\n",
              "101          16                                     Up with People        NaN\n",
              "102          15                                  The Human Jukebox        NaN\n",
              "103          15                                    Helen O'Connell        NaN\n",
              "104          14                                     Up with People        NaN\n",
              "105          14     Grambling State University Tiger Marching Band        NaN\n",
              "106          13                                       Ken Hamilton        NaN\n",
              "107          13                                           Gramacks        NaN\n",
              "108          12                   Tyler Junior College Apache Band        NaN\n",
              "109          12                                      Pete Fountain        NaN\n",
              "110          12                                            Al Hirt        NaN\n",
              "111          11  Los Angeles Unified School District All City H...        NaN\n",
              "112          10                                     Up with People        NaN\n",
              "113           9                                   Mercer Ellington        NaN\n",
              "114           9     Grambling State University Tiger Marching Band        NaN\n",
              "115           8                  University of Texas Longhorn Band        NaN\n",
              "116           8                                       Judy Mallett        NaN\n",
              "117           7               University of Michigan Marching Band        NaN\n",
              "118           7                                       Woody Herman        NaN\n",
              "119           7                                      Andy Williams        NaN\n",
              "120           6                                    Ella Fitzgerald        NaN\n",
              "121           6                                     Carol Channing        NaN\n",
              "122           6                                            Al Hirt        NaN\n",
              "123           6      United States Air Force Academy Cadet Chorale        NaN\n",
              "124           5             Southeast Missouri State Marching Band        NaN\n",
              "125           4                                  Marguerite Piazza        NaN\n",
              "126           4                                     Doc Severinsen        NaN\n",
              "127           4                                            Al Hirt        NaN\n",
              "128           4                                  The Human Jukebox        NaN\n",
              "129           3           Florida A&M University Marching 100 Band        NaN\n",
              "130           2     Grambling State University Tiger Marching Band        NaN\n",
              "131           1      University of Arizona Symphonic Marching Band        NaN\n",
              "132           1     Grambling State University Tiger Marching Band        NaN\n",
              "133           1                                            Al Hirt        NaN"
            ]
          },
          "metadata": {
            "tags": []
          },
          "execution_count": 46
        }
      ]
    },
    {
      "cell_type": "markdown",
      "metadata": {
        "run_control": {
          "frozen": true
        },
        "tags": [
          "context"
        ],
        "dc": {
          "key": "52"
        },
        "editable": false,
        "deletable": false,
        "id": "cpwVFmXd0eoU",
        "colab_type": "text"
      },
      "source": [
        "## 8. Who has the most halftime show appearances?\n",
        "<p>Lots of marching bands. American jazz clarinetist Pete Fountain. Miss Texas 1973 playing a violin. Nothing against those performers, they're just simply not <a href=\"https://www.youtube.com/watch?v=suIg9kTGBVI\">Beyoncé</a>. To be fair, no one is.</p>\n",
        "<p>Let's see all of the musicians that have done more than one halftime show, including their performance counts.</p>"
      ]
    },
    {
      "cell_type": "code",
      "metadata": {
        "trusted": true,
        "tags": [
          "sample_code"
        ],
        "dc": {
          "key": "52"
        },
        "id": "TbWYR_4p0eoU",
        "colab_type": "code",
        "colab": {},
        "outputId": "b48a57cd-2197-4eda-c405-16b41f722412"
      },
      "source": [
        "# Count halftime show appearances for each musician and sort them from most to least\n",
        "halftime_appearances = halftime_musicians.groupby('musician').count()['super_bowl'].reset_index()\n",
        "halftime_appearances = halftime_appearances.sort_values('super_bowl', ascending=False)\n",
        "\n",
        "# Display musicians with more than one halftime show appearance\n",
        "halftime_appearances[halftime_appearances['super_bowl'] > 1]\n",
        "\n"
      ],
      "execution_count": null,
      "outputs": [
        {
          "output_type": "execute_result",
          "data": {
            "text/html": [
              "<div>\n",
              "<style scoped>\n",
              "    .dataframe tbody tr th:only-of-type {\n",
              "        vertical-align: middle;\n",
              "    }\n",
              "\n",
              "    .dataframe tbody tr th {\n",
              "        vertical-align: top;\n",
              "    }\n",
              "\n",
              "    .dataframe thead th {\n",
              "        text-align: right;\n",
              "    }\n",
              "</style>\n",
              "<table border=\"1\" class=\"dataframe\">\n",
              "  <thead>\n",
              "    <tr style=\"text-align: right;\">\n",
              "      <th></th>\n",
              "      <th>musician</th>\n",
              "      <th>super_bowl</th>\n",
              "    </tr>\n",
              "  </thead>\n",
              "  <tbody>\n",
              "    <tr>\n",
              "      <th>28</th>\n",
              "      <td>Grambling State University Tiger Marching Band</td>\n",
              "      <td>6</td>\n",
              "    </tr>\n",
              "    <tr>\n",
              "      <th>104</th>\n",
              "      <td>Up with People</td>\n",
              "      <td>4</td>\n",
              "    </tr>\n",
              "    <tr>\n",
              "      <th>1</th>\n",
              "      <td>Al Hirt</td>\n",
              "      <td>4</td>\n",
              "    </tr>\n",
              "    <tr>\n",
              "      <th>83</th>\n",
              "      <td>The Human Jukebox</td>\n",
              "      <td>3</td>\n",
              "    </tr>\n",
              "    <tr>\n",
              "      <th>76</th>\n",
              "      <td>Spirit of Troy</td>\n",
              "      <td>2</td>\n",
              "    </tr>\n",
              "    <tr>\n",
              "      <th>25</th>\n",
              "      <td>Florida A&amp;M University Marching 100 Band</td>\n",
              "      <td>2</td>\n",
              "    </tr>\n",
              "    <tr>\n",
              "      <th>26</th>\n",
              "      <td>Gloria Estefan</td>\n",
              "      <td>2</td>\n",
              "    </tr>\n",
              "    <tr>\n",
              "      <th>102</th>\n",
              "      <td>University of Minnesota Marching Band</td>\n",
              "      <td>2</td>\n",
              "    </tr>\n",
              "    <tr>\n",
              "      <th>10</th>\n",
              "      <td>Bruno Mars</td>\n",
              "      <td>2</td>\n",
              "    </tr>\n",
              "    <tr>\n",
              "      <th>64</th>\n",
              "      <td>Pete Fountain</td>\n",
              "      <td>2</td>\n",
              "    </tr>\n",
              "    <tr>\n",
              "      <th>5</th>\n",
              "      <td>Beyoncé</td>\n",
              "      <td>2</td>\n",
              "    </tr>\n",
              "    <tr>\n",
              "      <th>36</th>\n",
              "      <td>Justin Timberlake</td>\n",
              "      <td>2</td>\n",
              "    </tr>\n",
              "    <tr>\n",
              "      <th>57</th>\n",
              "      <td>Nelly</td>\n",
              "      <td>2</td>\n",
              "    </tr>\n",
              "    <tr>\n",
              "      <th>44</th>\n",
              "      <td>Los Angeles Unified School District All City H...</td>\n",
              "      <td>2</td>\n",
              "    </tr>\n",
              "  </tbody>\n",
              "</table>\n",
              "</div>"
            ],
            "text/plain": [
              "                                              musician  super_bowl\n",
              "28      Grambling State University Tiger Marching Band           6\n",
              "104                                     Up with People           4\n",
              "1                                              Al Hirt           4\n",
              "83                                   The Human Jukebox           3\n",
              "76                                      Spirit of Troy           2\n",
              "25            Florida A&M University Marching 100 Band           2\n",
              "26                                      Gloria Estefan           2\n",
              "102              University of Minnesota Marching Band           2\n",
              "10                                          Bruno Mars           2\n",
              "64                                       Pete Fountain           2\n",
              "5                                              Beyoncé           2\n",
              "36                                   Justin Timberlake           2\n",
              "57                                               Nelly           2\n",
              "44   Los Angeles Unified School District All City H...           2"
            ]
          },
          "metadata": {
            "tags": []
          },
          "execution_count": 48
        }
      ]
    },
    {
      "cell_type": "markdown",
      "metadata": {
        "run_control": {
          "frozen": true
        },
        "tags": [
          "context"
        ],
        "dc": {
          "key": "59"
        },
        "editable": false,
        "deletable": false,
        "id": "0Z4cTfUc0eoW",
        "colab_type": "text"
      },
      "source": [
        "## 9. Who performed the most songs in a halftime show?\n",
        "<p>The world famous <a href=\"https://www.youtube.com/watch?v=RL_3oqpHiDg\">Grambling State University Tiger Marching Band</a> takes the crown with six appearances. Beyoncé, Justin Timberlake, Nelly, and Bruno Mars are the only post-Y2K musicians with multiple appearances (two each).</p>\n",
        "<p>From our previous inspections, the <code>num_songs</code> column has lots of missing values:</p>\n",
        "<ul>\n",
        "<li>A lot of the marching bands don't have <code>num_songs</code> entries.</li>\n",
        "<li>For non-marching bands, missing data starts occurring at Super Bowl XX.</li>\n",
        "</ul>\n",
        "<p>Let's filter out marching bands by filtering out musicians with the word \"Marching\" in them and the word \"Spirit\" (a common naming convention for marching bands is \"Spirit of [something]\"). Then we'll filter for Super Bowls after Super Bowl XX to address the missing data issue, <em>then</em> let's see who has the most number of songs.</p>"
      ]
    },
    {
      "cell_type": "code",
      "metadata": {
        "trusted": true,
        "tags": [
          "sample_code"
        ],
        "dc": {
          "key": "59"
        },
        "id": "Sc_AJZoZ0eoW",
        "colab_type": "code",
        "colab": {},
        "outputId": "e5b12b9e-8963-4868-8a66-2718fdf052b4"
      },
      "source": [
        "# Filter out most marching bands\n",
        "no_bands = halftime_musicians[~halftime_musicians.musician.str.contains('Marching')]\n",
        "no_bands = no_bands[~no_bands.musician.str.contains('Spirit')]\n",
        "\n",
        "# Plot a histogram of number of songs per performance\n",
        "most_songs = int(max(no_bands['num_songs'].values))\n",
        "plt.hist(no_bands.num_songs.dropna(), bins=...)\n",
        "# ... YOUR CODE FOR TASK 9 ...\n",
        "plt.xlabel('Number of Songs per Halftime Show Performance')\n",
        "plt.ylabel('Number of Musicians')\n",
        "plt.show()\n",
        "\n",
        "# Sort the non-band musicians by number of songs per appearance...\n",
        "no_bands = no_bands.sort_values('num_songs', ascending=False)\n",
        "# ...and display the top 15\n",
        "display(no_bands.head(15))"
      ],
      "execution_count": null,
      "outputs": [
        {
          "output_type": "error",
          "ename": "SyntaxError",
          "evalue": "keyword can't be an expression (<ipython-input-50-162a2c6f99e9>, line 7)",
          "traceback": [
            "  File \"<ipython-input-50-162a2c6f99e9>\", line 7\n    plt.hist(no_bands.num_songs.dropna(), ...=...)\n                                         ^\nSyntaxError: keyword can't be an expression\n"
          ]
        }
      ]
    },
    {
      "cell_type": "markdown",
      "metadata": {
        "run_control": {
          "frozen": true
        },
        "tags": [
          "context"
        ],
        "dc": {
          "key": "66"
        },
        "editable": false,
        "deletable": false,
        "id": "OSj7rXLC0eoa",
        "colab_type": "text"
      },
      "source": [
        "## 10. Conclusion\n",
        "<p>So most non-band musicians do 1-3 songs per halftime show. It's important to note that the duration of the halftime show is fixed (roughly 12 minutes) so songs per performance is more a measure of how many hit songs you have. JT went off in 2018, wow. 11 songs! Diana Ross comes in second with 10 in her medley in 1996.</p>\n",
        "<p>In this notebook, we loaded, cleaned, then explored Super Bowl game, television, and halftime show data. We visualized the distributions of combined points, point differences, and halftime show performances using histograms. We used line plots to see how ad cost increases lagged behind viewership increases. And we discovered that blowouts do appear to lead to a drop in viewers.</p>\n",
        "<p>This year's Big Game will be here before you know it. Who do you think will win Super Bowl LIII?</p>\n",
        "<p><em>UPDATE: <a href=\"https://en.wikipedia.org/wiki/Super_Bowl_LIII\">Spoiler alert</a>.</em></p>"
      ]
    },
    {
      "cell_type": "code",
      "metadata": {
        "trusted": true,
        "tags": [
          "sample_code"
        ],
        "dc": {
          "key": "66"
        },
        "id": "pqcsx7ty0eob",
        "colab_type": "code",
        "colab": {}
      },
      "source": [
        "# 2018-2019 conference champions\n",
        "patriots = 'New England Patriots'\n",
        "rams = 'Los Angeles Rams'\n",
        "\n",
        "# Who will win Super Bowl LIII?\n",
        "super_bowl_LIII_winner = ...\n",
        "print('The winner of Super Bowl LIII will be the', super_bowl_LIII_winner)"
      ],
      "execution_count": null,
      "outputs": []
    }
  ]
}